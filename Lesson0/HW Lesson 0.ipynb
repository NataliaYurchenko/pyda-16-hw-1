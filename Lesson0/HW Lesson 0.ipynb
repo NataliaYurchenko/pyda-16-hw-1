{
 "cells": [
  {
   "cell_type": "code",
   "execution_count": 2,
   "metadata": {},
   "outputs": [
    {
     "name": "stdout",
     "output_type": "stream",
     "text": [
      "Фраза 1 длиннее фразы 2\n"
     ]
    }
   ],
   "source": [
    "phrase_1 = 'Насколько проще было бы писать программы, если бы не заказчики'\n",
    "phrase_2 = '640Кб должно хватить для любых задач. Билл Гейтс (по легенде)'\n",
    "if len (phrase_1) > len (phrase_2):\n",
    "    print ('Фраза 1 длиннее фразы 2')"
   ]
  },
  {
   "cell_type": "code",
   "execution_count": 3,
   "metadata": {},
   "outputs": [
    {
     "name": "stdout",
     "output_type": "stream",
     "text": [
      "Фраза 2 длиннее фразы 1\n"
     ]
    }
   ],
   "source": [
    "phrase_1 = '640Кб должно хватить для любых задач. Билл Гейтс (по легенде)'\n",
    "phrase_2 = 'Насколько проще было бы писать программы, если бы не заказчики'\n",
    "if len (phrase_1) < len (phrase_2):\n",
    "    print ('Фраза 2 длиннее фразы 1')"
   ]
  },
  {
   "cell_type": "code",
   "execution_count": 4,
   "metadata": {},
   "outputs": [
    {
     "name": "stdout",
     "output_type": "stream",
     "text": [
      "Фразы равной длины\n"
     ]
    }
   ],
   "source": [
    "phrase_1 = 'Насколько проще было бы писать программы, если бы не заказчики'\n",
    "phrase_2 = 'Насколько проще было бы писать программы, если бы не заказчики'\n",
    "if len (phrase_1) == len (phrase_2):\n",
    "    print ('Фразы равной длины')"
   ]
  },
  {
   "cell_type": "code",
   "execution_count": 13,
   "metadata": {},
   "outputs": [
    {
     "name": "stdout",
     "output_type": "stream",
     "text": [
      "Обычный год\n"
     ]
    }
   ],
   "source": [
    "year = 2021\n",
    "if year % 4 == 0:\n",
    "    print ('Високосный год')\n",
    "else:\n",
    "    print ('Обычный год')"
   ]
  },
  {
   "cell_type": "code",
   "execution_count": 40,
   "metadata": {},
   "outputs": [
    {
     "name": "stdout",
     "output_type": "stream",
     "text": [
      "Введите день20\n",
      "Введите месяцноябрь\n",
      "Ваш знак зодиака: Скорпион\n"
     ]
    }
   ],
   "source": [
    "user_input = int(input('Введите день')) \n",
    "user_input2 = str(input('Введите месяц'))\n",
    "if user_input >= 22 and user_input2 == 'август' or user_input <= 23 and user_input2 == 'сентябрь':\n",
    "    print ('Ваш знак зодиака: Дева')\n",
    "elif user_input >= 24 and user_input2 == 'октябрь' or user_input <= 22 and user_input2 == 'ноябрь':\n",
    "    print ('Ваш знак зодиака: Скорпион')"
   ]
  },
  {
   "cell_type": "code",
   "execution_count": 41,
   "metadata": {},
   "outputs": [
    {
     "name": "stdout",
     "output_type": "stream",
     "text": [
      "Коробка №2\n"
     ]
    }
   ],
   "source": [
    "width = 30\n",
    "length = 5\n",
    "height = 5\n",
    "if width < 15 and length < 15 and height < 15:\n",
    "    print ('Коробка №1')\n",
    "elif width > 15 and width < 50 or length > 15 and length < 50 or height > 15 and height < 50:\n",
    "    print ('Коробка №2')\n",
    "elif length > 200:\n",
    "    print ('Коробка для лыж')\n",
    "else:  \n",
    "    print ('Стандартная коробка №3')"
   ]
  },
  {
   "cell_type": "code",
   "execution_count": 26,
   "metadata": {},
   "outputs": [
    {
     "name": "stdout",
     "output_type": "stream",
     "text": [
      "Веедите номер456345\n",
      "Несчастливый билет\n"
     ]
    }
   ],
   "source": [
    "n = int(input ('Веедите номер'))\n",
    "my_sum = 0\n",
    "my_sum2 = 0\n",
    "digit1 = n % 10\n",
    "digit2 = (n % 100) // 10\n",
    "digit3 = (n % 1000) // 100\n",
    "digit4 = (n % 10000) // 1000\n",
    "digit5 = (n % 100000) // 10000\n",
    "digit6 = (n % 1000000) // 100000\n",
    "my_sum = digit1 + digit2 + digit3\n",
    "my_sum2 = digit4 + digit5 + digit6\n",
    "if my_sum == my_sum2: \n",
    "    print ('Счастливый билет')\n",
    "else:\n",
    "    print ('Несчастливый билет')"
   ]
  },
  {
   "cell_type": "code",
   "execution_count": 27,
   "metadata": {},
   "outputs": [
    {
     "data": {
      "text/plain": [
       "1.4142135623730951"
      ]
     },
     "execution_count": 27,
     "metadata": {},
     "output_type": "execute_result"
    }
   ],
   "source": [
    "2 **0.5"
   ]
  },
  {
   "cell_type": "code",
   "execution_count": 35,
   "metadata": {},
   "outputs": [
    {
     "name": "stdout",
     "output_type": "stream",
     "text": [
      "Введите тип фигурытреугольник\n",
      "Введите сторону А3\n",
      "Введите сторону B4\n",
      "Введите сторону C5\n",
      "Площадь треугольника: 6.0\n"
     ]
    }
   ],
   "source": [
    "figure = str(input('Введите тип фигуры'))\n",
    "figure = figure.lower()\n",
    "if figure == 'круг':\n",
    "    R = float(input('Введите радиус круга')) \n",
    "pi = 3.1415\n",
    "s1 = pi*R**2\n",
    "\n",
    "if figure == 'круг': \n",
    "    print ('Площадь круга:', s1)\n",
    "elif figure == 'прямоугольник':\n",
    "    a = float(input('Введите длину')) \n",
    "    b = float(input('Введите ширину')) \n",
    "    s2 = a*b\n",
    "    print ('Площадь прямоугольника:', s2)\n",
    "elif figure == 'треугольник':\n",
    "    a = float(input('Введите сторону А')) \n",
    "    b = float(input('Введите сторону B')) \n",
    "    c = float(input('Введите сторону C')) \n",
    "    p = (a+b+c) / 2\n",
    "    s3 = (p*(p-a)*(p-b)*(p-c))**0.5\n",
    "    print ('Площадь треугольника:', s3)"
   ]
  },
  {
   "cell_type": "code",
   "execution_count": null,
   "metadata": {},
   "outputs": [],
   "source": []
  }
 ],
 "metadata": {
  "kernelspec": {
   "display_name": "Python 3",
   "language": "python",
   "name": "python3"
  },
  "language_info": {
   "codemirror_mode": {
    "name": "ipython",
    "version": 3
   },
   "file_extension": ".py",
   "mimetype": "text/x-python",
   "name": "python",
   "nbconvert_exporter": "python",
   "pygments_lexer": "ipython3",
   "version": "3.8.3"
  }
 },
 "nbformat": 4,
 "nbformat_minor": 4
}
