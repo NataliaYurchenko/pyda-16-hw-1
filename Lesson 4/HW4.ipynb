{
 "cells": [
  {
   "cell_type": "code",
   "execution_count": 55,
   "metadata": {},
   "outputs": [],
   "source": [
    "import json\n",
    "\n",
    "new_dict = {}\n",
    "purchase_dict = {}\n",
    "f = open('purchase_log.txt', 'r', encoding='utf-8')\n",
    "for line in f:\n",
    "    dict_in_line = json.loads(line)\n",
    "    purchase_dict[dict_in_line['user_id']] = dict_in_line['category']\n",
    "\n",
    "#print(purchase_dict['1840e0b9d4'])\n",
    "\n",
    "f1 = open('visit_log.csv', 'r')\n",
    "with open('funnel.csv', 'w') as f2write:\n",
    "    for i in f1:\n",
    "        user_id, source = i.strip().split(',')\n",
    "        if user_id in purchase_dict:\n",
    "            category = purchase_dict[user_id]\n",
    "            f2write.write(user_id + ',' + source + ',' + category + '\\n')  \n"
   ]
  },
  {
   "cell_type": "code",
   "execution_count": null,
   "metadata": {},
   "outputs": [],
   "source": []
  }
 ],
 "metadata": {
  "kernelspec": {
   "display_name": "Python 3",
   "language": "python",
   "name": "python3"
  },
  "language_info": {
   "codemirror_mode": {
    "name": "ipython",
    "version": 3
   },
   "file_extension": ".py",
   "mimetype": "text/x-python",
   "name": "python",
   "nbconvert_exporter": "python",
   "pygments_lexer": "ipython3",
   "version": "3.8.3"
  }
 },
 "nbformat": 4,
 "nbformat_minor": 4
}
