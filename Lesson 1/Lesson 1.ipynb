{
 "cells": [
  {
   "cell_type": "code",
   "execution_count": 35,
   "metadata": {},
   "outputs": [
    {
     "name": "stdout",
     "output_type": "stream",
     "text": [
      "\n"
     ]
    }
   ],
   "source": [
    "word = 'python'\n",
    "if len(word) % 2 == 0:\n",
    "    a = len(word) // 2\n",
    "    print (word [(a-1):(a+1)])\n",
    "else:\n",
    "    a = len(word) // 2\n",
    "    print (word [a])"
   ]
  },
  {
   "cell_type": "code",
   "execution_count": 2,
   "metadata": {},
   "outputs": [
    {
     "name": "stdout",
     "output_type": "stream",
     "text": [
      "Введите число4\n",
      "Введите число5\n",
      "Введите число0\n",
      "9\n"
     ]
    }
   ],
   "source": [
    "user_input = 1\n",
    "my_sum = 0\n",
    "while user_input != 0:\n",
    "    user_input = int(input('Введите число')) \n",
    "    my_sum = my_sum + user_input\n",
    "print (my_sum)"
   ]
  },
  {
   "cell_type": "code",
   "execution_count": 14,
   "metadata": {},
   "outputs": [
    {
     "name": "stdout",
     "output_type": "stream",
     "text": [
      "Кто-то останется без пары\n"
     ]
    }
   ],
   "source": [
    "boys = ['Peter', 'Alex', 'John', 'Arthur', 'Richard', 'Mike']\n",
    "girls = ['Kate', 'Liza', 'Kira', 'Emma', 'Trisha']\n",
    "boys = sorted(boys)\n",
    "girls = sorted(girls)\n",
    "\n",
    "if len(boys) == len(girls):\n",
    "    new_list = zip(boys, girls)\n",
    "    for my_pair in new_list:\n",
    "        print (my_pair[0], 'и', my_pair[1])\n",
    "else:\n",
    "    print('Кто-то останется без пары')"
   ]
  },
  {
   "cell_type": "code",
   "execution_count": 27,
   "metadata": {},
   "outputs": [
    {
     "name": "stdout",
     "output_type": "stream",
     "text": [
      "Средняя температура в странах\n",
      "Thailand - 23.85 C\n",
      "Средняя температура в странах\n",
      "Germany - 13.8 C\n",
      "Средняя температура в странах\n",
      "Russia - 3.71 C\n",
      "Средняя температура в странах\n",
      "Poland - 11.99 C\n"
     ]
    }
   ],
   "source": [
    "countries_temperature = [\n",
    "['Thailand', [75.2, 77, 78.8, 73.4, 68, 75.2, 77]],\n",
    "['Germany', [57.2, 55.4, 59, 59, 53.6]],\n",
    "['Russia', [35.6, 37.4, 39.2, 41, 42.8, 39.2, 35.6]],\n",
    "['Poland', [50, 50, 53.6, 57.2, 55.4, 55.4]]\n",
    "]\n",
    "for country_and_temperature in countries_temperature:\n",
    "    country = country_and_temperature[0]\n",
    "    av_temperature = sum(country_and_temperature[1]) / len(country_and_temperature[1])\n",
    "    new_temp = (5 * (av_temperature - 32) / 9) * 100\n",
    "    new_temp = int(new_temp)\n",
    "    new_temp = new_temp / 100\n",
    "    print ('Средняя температура в странах')\n",
    "    print (country, '-', new_temp, 'C')\n",
    "    \n"
   ]
  },
  {
   "cell_type": "code",
   "execution_count": 65,
   "metadata": {},
   "outputs": [
    {
     "name": "stdout",
     "output_type": "stream",
     "text": [
      "Среднее количество просмотров на уникального пользователя: 145.33333333333334\n"
     ]
    }
   ],
   "source": [
    "stream = [\n",
    "'2018-01-01,user100,150',\n",
    "'2018-01-07,user99,205',\n",
    "'2018-03-29,user1001,81'\n",
    "]\n",
    "\n",
    "users = []\n",
    "res = 0\n",
    "my_sum = 0\n",
    "for i in stream:\n",
    "    fields = i.split(',')\n",
    "    my_sum += int(fields[2])\n",
    "    if fields[1] in users:\n",
    "        pass\n",
    "    else:\n",
    "        users.append(fields[1])\n",
    "    res = my_sum / len(users)\n",
    "print('Среднее количество просмотров на уникального пользователя:', res)\n",
    "    \n",
    "   "
   ]
  },
  {
   "cell_type": "code",
   "execution_count": 76,
   "metadata": {},
   "outputs": [
    {
     "name": "stdout",
     "output_type": "stream",
     "text": [
      "Введите числа через пробел 3 3 3 5 5 5\n",
      "3\n",
      "5\n"
     ]
    }
   ],
   "source": [
    "user_input = (input('Введите числа через пробел ')) \n",
    "list_1 = user_input.split (' ')\n",
    "unique_values = []\n",
    "printed_values = []\n",
    "for i in list_1:\n",
    "    if i in unique_values:\n",
    "        if i in printed_values:\n",
    "            pass\n",
    "        else:\n",
    "            print (i)\n",
    "            printed_values.append(i)\n",
    "    else:\n",
    "        unique_values.append(i) "
   ]
  }
 ],
 "metadata": {
  "kernelspec": {
   "display_name": "Python 3",
   "language": "python",
   "name": "python3"
  },
  "language_info": {
   "codemirror_mode": {
    "name": "ipython",
    "version": 3
   },
   "file_extension": ".py",
   "mimetype": "text/x-python",
   "name": "python",
   "nbconvert_exporter": "python",
   "pygments_lexer": "ipython3",
   "version": "3.8.3"
  }
 },
 "nbformat": 4,
 "nbformat_minor": 4
}
