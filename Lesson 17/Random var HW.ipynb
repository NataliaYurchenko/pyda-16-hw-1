{
 "cells": [
  {
   "cell_type": "code",
   "execution_count": 1,
   "metadata": {},
   "outputs": [],
   "source": [
    "import numpy as np"
   ]
  },
  {
   "cell_type": "code",
   "execution_count": 21,
   "metadata": {},
   "outputs": [
    {
     "name": "stdout",
     "output_type": "stream",
     "text": [
      "-0.38169 Игра не выгодна\n"
     ]
    }
   ],
   "source": [
    "trials = 100000\n",
    "\n",
    "lost_count = 0 \n",
    "result = 0\n",
    "for i in range(trials):\n",
    "    \n",
    "    random_score = np.random.randint(0, 1000, 1)\n",
    "    won_count = 0\n",
    "    lost_count = 1\n",
    "    if random_score == 777:\n",
    "        won_count +=200\n",
    "    elif random_score == 999:\n",
    "        won_count +=100\n",
    "    elif random_score == 555:\n",
    "        won_count +=50\n",
    "    elif random_score == 333:\n",
    "        won_count +=15\n",
    "    elif random_score == 111:\n",
    "        won_count +=10\n",
    "    elif random_score % 10 == 77:\n",
    "        won_count +=5\n",
    "    elif random_score % 100 == 7:\n",
    "        won_count +=3\n",
    "    elif random_score % 10 == 0:\n",
    "        won_count +=2\n",
    "    elif random_score % 100 == 0:\n",
    "        won_count +=1\n",
    "    else:\n",
    "        pass\n",
    "    result +=  won_count - lost_count\n",
    "if result >= 0:\n",
    "    print (result/trials, 'Игра выгодна')\n",
    "else:\n",
    "    print (result/trials, 'Игра не выгодна')\n",
    "\n"
   ]
  },
  {
   "cell_type": "code",
   "execution_count": null,
   "metadata": {},
   "outputs": [],
   "source": []
  }
 ],
 "metadata": {
  "kernelspec": {
   "display_name": "Python 3",
   "language": "python",
   "name": "python3"
  },
  "language_info": {
   "codemirror_mode": {
    "name": "ipython",
    "version": 3
   },
   "file_extension": ".py",
   "mimetype": "text/x-python",
   "name": "python",
   "nbconvert_exporter": "python",
   "pygments_lexer": "ipython3",
   "version": "3.8.3"
  }
 },
 "nbformat": 4,
 "nbformat_minor": 4
}
