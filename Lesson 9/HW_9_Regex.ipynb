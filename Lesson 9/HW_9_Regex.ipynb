{
 "cells": [
  {
   "cell_type": "code",
   "execution_count": 29,
   "metadata": {},
   "outputs": [
    {
     "name": "stdout",
     "output_type": "stream",
     "text": [
      "Номер  АВ222С96 валиден. Регион  96\n"
     ]
    }
   ],
   "source": [
    "import re\n",
    "def id_check(car_id):\n",
    "    result = re.match(r'([АВСЕНКМОРТХУ]{2})(\\d{3})([АВСЕНКМОРТХУ]{1})(\\d{2,3})', car_id)\n",
    "    result\n",
    "    if result is not None:\n",
    "        print('Номер ', car_id, 'валиден. Регион ', car_id[-2:])\n",
    "    else:\n",
    "        print('Номер не валиден')\n",
    "id_check(car_id)"
   ]
  },
  {
   "cell_type": "code",
   "execution_count": 36,
   "metadata": {},
   "outputs": [
    {
     "data": {
      "text/plain": [
       "'Напишите функцию, которая будет удалять все последовательные повторы слов из заданной строки при помощи регулярных выражений'"
      ]
     },
     "execution_count": 36,
     "metadata": {},
     "output_type": "execute_result"
    }
   ],
   "source": [
    "some_string = 'Напишите функцию функцию, которая будет будет будет будет удалять все все все все последовательные повторы слов из из из из заданной строки строки при помощи регулярных выражений'\n",
    "def remove_duplicate(some_string):\n",
    "    return re.sub(r\"\\b(\\w+)(?:\\W+\\1\\b)+\", r'\\1', some_string)\n",
    "remove_duplicate(some_string)"
   ]
  },
  {
   "cell_type": "code",
   "execution_count": 14,
   "metadata": {},
   "outputs": [
    {
     "data": {
      "text/plain": [
       "'NFC'"
      ]
     },
     "execution_count": 14,
     "metadata": {},
     "output_type": "execute_result"
    }
   ],
   "source": [
    "import re\n",
    "some_words = 'Near Field Communication'\n",
    "def abbreviation(some_words):\n",
    "    some_words = re.sub(r'(\\w)\\w*', (r'\\1'),  some_words)\n",
    "    return re.sub(r'\\s', r'', some_words).upper()\n",
    "    \n",
    "abbreviation(some_words)"
   ]
  },
  {
   "cell_type": "code",
   "execution_count": 75,
   "metadata": {},
   "outputs": [
    {
     "data": {
      "text/plain": [
       "{'gmail.com': 2, 'test.in': 1, 'ya.ru': 2, 'mail.ru': 1}"
      ]
     },
     "execution_count": 75,
     "metadata": {},
     "output_type": "execute_result"
    }
   ],
   "source": [
    "emails = ['test@gmail.com', 'xyz@test.in', 'test@ya.ru', 'xyz@mail.ru', 'xyz@ya.ru', 'xyz@gmail.com']\n",
    "def emails_count(emails):\n",
    "    email_count = {}\n",
    "    for email in emails:\n",
    "        domen = re.search(r'(?<=@)\\w+\\.\\w+', email)\n",
    "        domain_name = domen.group(0)\n",
    "        if domain_name not in email_count:\n",
    "            email_count[domain_name] = 1\n",
    "        else:\n",
    "            email_count[domain_name] += 1\n",
    "    return email_count\n",
    "\n",
    "emails_count(emails)"
   ]
  },
  {
   "cell_type": "code",
   "execution_count": null,
   "metadata": {},
   "outputs": [],
   "source": []
  }
 ],
 "metadata": {
  "kernelspec": {
   "display_name": "Python 3",
   "language": "python",
   "name": "python3"
  },
  "language_info": {
   "codemirror_mode": {
    "name": "ipython",
    "version": 3
   },
   "file_extension": ".py",
   "mimetype": "text/x-python",
   "name": "python",
   "nbconvert_exporter": "python",
   "pygments_lexer": "ipython3",
   "version": "3.7.3"
  }
 },
 "nbformat": 4,
 "nbformat_minor": 2
}
